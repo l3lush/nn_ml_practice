{
 "cells": [
  {
   "cell_type": "code",
   "execution_count": 1,
   "metadata": {},
   "outputs": [],
   "source": [
    "int_variable = 9  # int\n",
    "assert isinstance(int_variable, int)\n",
    "\n",
    "float_variable = 9.9  # float\n",
    "assert isinstance(float_variable, float)\n",
    "\n",
    "string_variable = \"Hello\"  # string\n",
    "assert isinstance(string_variable, str)\n",
    "\n",
    "bool_variable = True  # bool\n",
    "assert isinstance(bool_variable, bool)"
   ]
  },
  {
   "cell_type": "code",
   "execution_count": 2,
   "metadata": {},
   "outputs": [],
   "source": [
    "list_variable = [1, 2, 3]  # list\n",
    "assert isinstance(list_variable, list)\n",
    "\n",
    "tuple_variable = (1,2)  # tuple\n",
    "assert isinstance(tuple_variable, tuple)\n",
    "\n",
    "set_variable = set('hello')  # set\n",
    "assert isinstance(set_variable, set)\n",
    "\n",
    "dict_variable = {\"s\" : 5}  # dict\n",
    "assert isinstance(dict_variable, dict)"
   ]
  },
  {
   "cell_type": "code",
   "execution_count": 3,
   "metadata": {},
   "outputs": [],
   "source": [
    "def difference_of_two_numbers(first, second):\n",
    "    if (abs(first) > abs(second)):\n",
    "        return abs(first) - abs(second)\n",
    "    else:\n",
    "        return abs(second) - abs(first)\n",
    "   \n",
    "\n",
    "\n",
    "assert difference_of_two_numbers(2, 1) == 1\n",
    "assert difference_of_two_numbers(4, 1) == 3\n",
    "assert difference_of_two_numbers(10, 0) == 10\n",
    "assert difference_of_two_numbers(-5, -6) == 1"
   ]
  },
  {
   "cell_type": "code",
   "execution_count": 4,
   "metadata": {},
   "outputs": [],
   "source": [
    "def condition_function(input_number):\n",
    "    if input_number <= 0:\n",
    "        return input_number * 2\n",
    "    elif input_number > 0 and input_number <= 10:\n",
    "        return input_number * 3\n",
    "    else:\n",
    "        return input_number / 10\n",
    "    \n",
    "\n",
    "\n",
    "assert condition_function(0) == 0\n",
    "assert condition_function(-1) == -2\n",
    "assert condition_function(1) == 3\n",
    "assert condition_function(10) == 30\n",
    "assert condition_function(11) == 1.1\n",
    "assert condition_function(20) == 2"
   ]
  },
  {
   "cell_type": "code",
   "execution_count": 5,
   "metadata": {},
   "outputs": [],
   "source": [
    "def calculator(number_1, operation, number_2):\n",
    "    if operation == \"+\":\n",
    "        return number_1 + number_2\n",
    "    elif operation == \"-\":\n",
    "        return number_1 - number_2\n",
    "    elif operation == \"*\":\n",
    "        return number_1 * number_2\n",
    "    else:\n",
    "        return number_1 / number_2\n",
    "    \n",
    "\n",
    "\n",
    "assert calculator(1, \"+\", 2) == 3\n",
    "assert calculator(3, \"-\", 1) == 2\n",
    "assert calculator(4, \"*\", 3) == 12\n",
    "assert calculator(2, \"/\", 2) == 1"
   ]
  },
  {
   "cell_type": "code",
   "execution_count": 6,
   "metadata": {},
   "outputs": [],
   "source": [
    "def number_of_unique_elements(input_list):\n",
    "    return len(set(input_list))\n",
    "    \n",
    "\n",
    "\n",
    "assert number_of_unique_elements([1, 2, 3]) == 3\n",
    "assert number_of_unique_elements([1] * 93) == 1\n",
    "assert number_of_unique_elements(list(range(1000))) == 1000"
   ]
  },
  {
   "cell_type": "code",
   "execution_count": 7,
   "metadata": {},
   "outputs": [],
   "source": [
    "def counter(input_list):\n",
    "    counts = {}\n",
    "    for element in input_list:\n",
    "        if element in counts:\n",
    "            counts[element] += 1\n",
    "        else:\n",
    "            counts[element] = 1\n",
    "    return counts\n",
    "    \n",
    "\n",
    "\n",
    "assert counter([1, 1, 1, 2, 3]) == {1: 3, 2: 1, 3: 1}\n",
    "assert counter([1] * 1000) == {1: 1000}\n",
    "assert counter([1, 3, 5] * 100) == {1: 100, 3: 100, 5: 100}"
   ]
  },
  {
   "cell_type": "code",
   "execution_count": 2,
   "metadata": {},
   "outputs": [],
   "source": [
    "def multiply_nums(input_string):\n",
    "\n",
    "    \n",
    "    nums = input_string.split(\",\")\n",
    "    result = 1\n",
    "    for num in nums:\n",
    "        result *= int(num)\n",
    "    return result\n",
    "    \n",
    "\n",
    "assert multiply_nums(\"2, 3\") == 6\n",
    "assert multiply_nums(\"1, 1, 1, 1, 1, 1, 1\") == 1\n",
    "assert multiply_nums(\"345, 4576, 794, 325, 0\") == 0"
   ]
  },
  {
   "cell_type": "code",
   "execution_count": 9,
   "metadata": {},
   "outputs": [],
   "source": [
    "import math\n",
    "def custom_function(x):\n",
    "    return math.sin(x) * math.cos(x)\n",
    "   \n",
    "\n",
    "assert round(custom_function(1), 3) == 0.455\n",
    "assert round(custom_function(1.5), 3) == 0.071\n",
    "assert round(custom_function(2), 3) == -0.378\n",
    "assert custom_function(0) == 0"
   ]
  },
  {
   "cell_type": "code",
   "execution_count": 10,
   "metadata": {},
   "outputs": [],
   "source": [
    "def custom_function_1(x, n):\n",
    "    acc = 1\n",
    "    for i in range(1, n+1):\n",
    "        acc *=(math.pow(i + 2, x) + math.log(x)) / (math.pow(x, 2) + (4 * i))\n",
    "    return acc\n",
    "    \n",
    "\n",
    "\n",
    "assert round(custom_function_1(2, 3), 3) == 2.707\n",
    "assert round(custom_function_1(3, 2), 3) == 8.277\n",
    "assert round(custom_function_1(3, 3), 3) == 49.7"
   ]
  },
  {
   "cell_type": "code",
   "execution_count": 11,
   "metadata": {},
   "outputs": [],
   "source": [
    "class MyList:\n",
    "\n",
    "    \n",
    "    def __init__(self, lst):\n",
    "        self.lst = lst\n",
    "    \n",
    "    def return_sum(self):\n",
    "        total = 0\n",
    "        for elem in self.lst:\n",
    "            total += elem\n",
    "        return total\n",
    "    \n",
    "    def make_reverse(self):\n",
    "        reversed_lst = []\n",
    "        for i in range(len(self.lst) - 1, -1, -1):\n",
    "            reversed_lst.append(self.lst[i])\n",
    "        self.lst = reversed_lst\n",
    "        return self.lst\n",
    "    \n",
    "    def make_slice(self, start, stop):\n",
    "        return self.lst[start:stop]\n",
    "\n",
    "a = MyList([1, 2, 3, 4])\n",
    "assert a.return_sum() == 10\n",
    "assert a.make_slice(0, 2) == [1, 2]\n",
    "assert a.make_reverse() == [4, 3, 2, 1]\n",
    "\n",
    "b = MyList([5, 6, 6, 5])\n",
    "assert b.return_sum() == 22\n",
    "assert b.make_reverse() == [5, 6, 6, 5]\n",
    "assert b.make_slice(1, 2) == [6]\n"
   ]
  }
 ],
 "metadata": {
  "kernelspec": {
   "display_name": "Python 3",
   "language": "python",
   "name": "python3"
  },
  "language_info": {
   "codemirror_mode": {
    "name": "ipython",
    "version": 3
   },
   "file_extension": ".py",
   "mimetype": "text/x-python",
   "name": "python",
   "nbconvert_exporter": "python",
   "pygments_lexer": "ipython3",
   "version": "3.10.10"
  },
  "orig_nbformat": 4
 },
 "nbformat": 4,
 "nbformat_minor": 2
}
