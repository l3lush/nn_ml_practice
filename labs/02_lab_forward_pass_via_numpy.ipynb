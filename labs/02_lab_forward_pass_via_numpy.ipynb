{
  "cells": [
    {
      "cell_type": "markdown",
      "id": "5770570e",
      "metadata": {
        "id": "5770570e"
      },
      "source": [
        "# Лабораторная работа №2\n",
        "\n",
        "ФИО:  Гласов Александр Васильевич   \n",
        "Группа: БИВТ-20-1\n",
        "\n",
        "Отправлять можно следующими способами (**обязательно указать свое ФИО и группу в каком-либо виде**):\n",
        "1. Создать **приватный** репозиторий на github, добавить меня по нику (l3lush) в Collaborators (Settings -> Collaborators -> Add people)\n",
        "2. Отправить заполненный ноутбук мне на почту avmysh@gmail.com, либо m1603956@edu.misis.ru\n",
        "3. Отправить заполненный ноутбук мне в тг @l3lush. \n",
        "\n",
        "**Deadlines**:\n",
        "- soft -- **02.04.2023 23:59** (за сдачу в пределах этого времени +1 балл в табличку)\n",
        "- hard -- **16.04.2023 23:59**\n",
        "\n",
        "\n",
        "**Что необходимо сделать**:\n",
        "1. Заполнить все ячейки ниже кодом так, чтобы прошли все `assert`ы."
      ]
    },
    {
      "cell_type": "markdown",
      "id": "3704002f",
      "metadata": {
        "id": "3704002f"
      },
      "source": [
        "# Задача 1. Реализовать слой с функцией активации \"сигмоида\""
      ]
    },
    {
      "cell_type": "markdown",
      "id": "edf0b72b",
      "metadata": {
        "id": "edf0b72b"
      },
      "source": [
        "![](https://upload.wikimedia.org/wikipedia/commons/thumb/8/88/Logistic-curve.svg/1200px-Logistic-curve.svg.png)"
      ]
    },
    {
      "cell_type": "markdown",
      "id": "6cbd5a25",
      "metadata": {
        "id": "6cbd5a25"
      },
      "source": [
        "Формула сигмоиды:\n",
        "$$\n",
        "f(x) = \\frac {1}{1 + e^{-x}}\n",
        "$$"
      ]
    },
    {
      "cell_type": "code",
      "execution_count": null,
      "id": "8f0352a0",
      "metadata": {
        "id": "8f0352a0"
      },
      "outputs": [],
      "source": [
        "import numpy as np"
      ]
    },
    {
      "cell_type": "code",
      "execution_count": null,
      "id": "2156cdb3",
      "metadata": {
        "id": "2156cdb3"
      },
      "outputs": [],
      "source": [
        "class SigmoidLayer():\n",
        "    def __init__(self):\n",
        "        self.params = []\n",
        "        self.gradInput = None\n",
        "        self.X = None\n",
        "        pass\n",
        "\n",
        "    def forward(self, X):\n",
        "        self.X = X\n",
        "        return 1 / (1 + np.exp(-X))\n",
        "        pass"
      ]
    },
    {
      "cell_type": "code",
      "execution_count": null,
      "id": "3fa22d18",
      "metadata": {
        "id": "3fa22d18"
      },
      "outputs": [],
      "source": [
        "np.random.seed(17)\n",
        "\n",
        "X = np.random.random(size=(100, 3))\n",
        "sigmoid = SigmoidLayer()\n",
        "output = sigmoid.forward(X)\n",
        "correct_answer = np.array([[0.57313782, 0.62961995, 0.54773438],\n",
        "                           [0.51696857, 0.68718368, 0.65843628],\n",
        "                           [0.65419284, 0.64005501, 0.50976449],\n",
        "                           [0.58851107, 0.7202462 , 0.51500666],\n",
        "                           [0.70350447, 0.70626044, 0.51279562]])\n",
        "assert np.isclose(output[:5], correct_answer).all()\n",
        "assert hasattr(sigmoid, \"params\"), \"Нет параметра params в реализованном классе\"\n",
        "assert hasattr(sigmoid, \"gradInput\"), \"Нет параметра gradInput в реализованном классе\"\n",
        "assert hasattr(sigmoid, \"X\"), \"Не сохранили X в реализованном классе\""
      ]
    },
    {
      "cell_type": "markdown",
      "id": "3b1aa776",
      "metadata": {
        "id": "3b1aa776"
      },
      "source": [
        "# Задача 2. Реализовать слой с активацией гиперболического тангенса"
      ]
    },
    {
      "cell_type": "markdown",
      "id": "57c26084",
      "metadata": {
        "id": "57c26084"
      },
      "source": [
        "![](https://production-media.paperswithcode.com/methods/Screen_Shot_2020-05-27_at_4.23.22_PM_dcuMBJl.png)"
      ]
    },
    {
      "cell_type": "code",
      "execution_count": null,
      "id": "886576bb",
      "metadata": {
        "id": "886576bb"
      },
      "outputs": [],
      "source": [
        "class TanhLayer():\n",
        "    def __init__(self):\n",
        "        self.params = []\n",
        "        self.gradInput = None\n",
        "        self.X = None\n",
        "\n",
        "    def forward(self, X):\n",
        "        self.X = X\n",
        "        return np.tanh(X)\n",
        "        pass"
      ]
    },
    {
      "cell_type": "code",
      "execution_count": null,
      "id": "4088016c",
      "metadata": {
        "id": "4088016c"
      },
      "outputs": [],
      "source": [
        "np.random.seed(17)\n",
        "\n",
        "X = np.random.random(size=(100, 3))\n",
        "tanh = TanhLayer()\n",
        "output = tanh.forward(X)\n",
        "correct_answer = np.array([[0.28642281, 0.48582948, 0.18921297],\n",
        "                           [0.0677962 , 0.65669792, 0.57591821],\n",
        "                           [0.5632092 , 0.51946218, 0.03904306],\n",
        "                           [0.34328675, 0.73782249, 0.05997262],\n",
        "                           [0.69833441, 0.70505935, 0.05114899]])\n",
        "assert np.isclose(output[:5], correct_answer).all()\n",
        "assert hasattr(tanh, \"params\"), \"Нет параметра params в реализованном классе\"\n",
        "assert hasattr(tanh, \"gradInput\"), \"Нет параметра gradInput в реализованном классе\"\n",
        "assert hasattr(tanh, \"X\"), \"Не сохранили X в реализованном классе\""
      ]
    },
    {
      "cell_type": "markdown",
      "id": "be2b44f7",
      "metadata": {
        "id": "be2b44f7"
      },
      "source": [
        "# Задача 3. Реализовать функцию потерь MSE"
      ]
    },
    {
      "cell_type": "markdown",
      "id": "2d15d7c2",
      "metadata": {
        "id": "2d15d7c2"
      },
      "source": [
        "В качестве интерактива-микрозадания, поищите формулу MSE в гугле 😊"
      ]
    },
    {
      "cell_type": "code",
      "execution_count": null,
      "id": "919014f4",
      "metadata": {
        "id": "919014f4"
      },
      "outputs": [],
      "source": [
        "class MSELoss():\n",
        "    def forward(self, y_true, y_pred):\n",
        "        return np.mean((y_true - y_pred) ** 2)"
      ]
    },
    {
      "cell_type": "code",
      "execution_count": null,
      "id": "f14b8a55",
      "metadata": {
        "id": "f14b8a55"
      },
      "outputs": [],
      "source": [
        "np.random.seed(17)\n",
        "\n",
        "y_true = np.random.randint(0, 1000, size=(100))\n",
        "y_pred = np.random.randint(0, 1000, size=(100))\n",
        "mse = MSELoss()\n",
        "output = mse.forward(y_true, y_pred)\n",
        "correct_answer = 157953.51\n",
        "assert round(output) == round(correct_answer)"
      ]
    },
    {
      "cell_type": "markdown",
      "id": "237d40c5",
      "metadata": {
        "id": "237d40c5"
      },
      "source": [
        "# Задача 4. Реализовать каркас нейросети"
      ]
    },
    {
      "cell_type": "code",
      "execution_count": null,
      "id": "db70586b",
      "metadata": {
        "id": "db70586b"
      },
      "outputs": [],
      "source": [
        "class LinearLayer:\n",
        "    def __init__(self, in_size, out_size):\n",
        "        self.W = np.random.randn(in_size, out_size)\n",
        "        self.params = [self.W]\n",
        "        self.gradW = None\n",
        "        self.gradInput = None\n",
        "        \n",
        "    def forward(self, X):\n",
        "        self.X = X.copy()\n",
        "        output = X.dot(self.W)\n",
        "        return output\n",
        "\n",
        "class NN:\n",
        "    def __init__(self, loss_func):\n",
        "        self.layers = []\n",
        "        self.params = []\n",
        "        self.grads = []\n",
        "        self.loss_func = loss_func\n",
        "\n",
        "    def add_layer(self, layer):\n",
        "        self.layers.append(layer)\n",
        "        self.params.extend(layer.params)\n",
        "\n",
        "    def add_layers(self, layers):\n",
        "        for layer in layers:\n",
        "            self.add_layer(layer)\n",
        "\n",
        "    def forward(self, X):\n",
        "        output = X\n",
        "        for layer in self.layers:\n",
        "            output = layer.forward(output)\n",
        "        return output"
      ]
    },
    {
      "cell_type": "code",
      "execution_count": null,
      "id": "3f6d4545",
      "metadata": {
        "id": "3f6d4545"
      },
      "outputs": [],
      "source": [
        "nn = NN(MSELoss())\n",
        "\n",
        "assert hasattr(nn, \"layers\")\n",
        "assert hasattr(nn, \"params\")\n",
        "assert hasattr(nn, \"grads\")\n",
        "assert hasattr(nn, \"loss_func\")\n",
        "assert isinstance(nn.loss_func, MSELoss)"
      ]
    },
    {
      "cell_type": "code",
      "execution_count": null,
      "id": "b0209c7d",
      "metadata": {
        "id": "b0209c7d"
      },
      "outputs": [],
      "source": [
        "np.random.seed(17)\n",
        "\n",
        "X = np.random.random(size=(100, 3))\n",
        "nn = NN(MSELoss())\n",
        "\n",
        "linear1 = LinearLayer(3, 5)\n",
        "nn.add_layer(linear1)\n",
        "\n",
        "sigmoid1 = SigmoidLayer()\n",
        "nn.add_layer(sigmoid1)\n",
        "\n",
        "linear2 = LinearLayer(5, 1)\n",
        "nn.add_layer(linear2)\n",
        "\n",
        "sigmoid2 = SigmoidLayer()\n",
        "nn.add_layer(sigmoid2)\n",
        "\n",
        "output_nn = nn.forward(X)\n",
        "\n",
        "assert round(output_nn.sum()) == 65"
      ]
    },
    {
      "cell_type": "markdown",
      "id": "d1d04155",
      "metadata": {
        "id": "d1d04155"
      },
      "source": [
        "# Задача 5. Соберите свою собственную нейросеть\n",
        "\n",
        "Конфигурация сети, как на картинке\n",
        "![](https://waksoft.susu.ru/wp-content/uploads/2021/05/nn-title.png)\n",
        "Активации любые на ваш вкус (можете чередовать, делать одни и те же и прочее, что душе угодно)"
      ]
    },
    {
      "cell_type": "code",
      "execution_count": null,
      "id": "c72b79ae",
      "metadata": {
        "id": "c72b79ae"
      },
      "outputs": [],
      "source": [
        "np.random.seed(17)\n",
        "\n",
        "nn = NN(MSELoss())\n",
        "nn.add_layers([\n",
        "    LinearLayer(4, 4),\n",
        "    SigmoidLayer(),\n",
        "    LinearLayer(4, 5),\n",
        "    SigmoidLayer(),\n",
        "    LinearLayer(5, 6),\n",
        "    SigmoidLayer(),\n",
        "    LinearLayer(6, 4),\n",
        "    SigmoidLayer(),\n",
        "    LinearLayer(4, 3),\n",
        "    SigmoidLayer(),\n",
        "    LinearLayer(3, 3),\n",
        "]);"
      ]
    },
    {
      "cell_type": "code",
      "execution_count": null,
      "id": "11ffea06",
      "metadata": {
        "id": "11ffea06"
      },
      "outputs": [],
      "source": [
        "np.random.seed(17)\n",
        "X = np.random.randn(100, 4)\n",
        "output = nn.forward(X)\n",
        "\n",
        "assert output.shape == (100, 3)\n",
        "\n",
        "layer_weights = []\n",
        "for layer in nn.layers:\n",
        "    if isinstance(layer, LinearLayer):\n",
        "        layer_weights.append(layer.W.shape)\n",
        "right_weights = [(4, 4), (4, 5), (5, 6), (6, 4), (4, 3), (3, 3)]\n",
        "assert layer_weights == right_weights"
      ]
    },
    {
      "cell_type": "markdown",
      "id": "02ec8398",
      "metadata": {
        "id": "02ec8398"
      },
      "source": [
        "Если прошли все ассерты, поздравляю, теперь вы способны построить полносвязную сеть любой конфигурации для любой задачи 🥳️🥳️🥳️🥳️🥳️🥳️🥳️\n",
        "![](https://kartinkof.club/uploads/posts/2022-06/1655926105_23-kartinkof-club-p-kartinki-s-nadpisyu-kto-molodets-ya-molode-24.jpg)"
      ]
    }
  ],
  "metadata": {
    "kernelspec": {
      "display_name": "nn_fall_2022_venv",
      "language": "python",
      "name": "nn_fall_2022_venv"
    },
    "language_info": {
      "codemirror_mode": {
        "name": "ipython",
        "version": 3
      },
      "file_extension": ".py",
      "mimetype": "text/x-python",
      "name": "python",
      "nbconvert_exporter": "python",
      "pygments_lexer": "ipython3",
      "version": "3.9.6"
    },
    "colab": {
      "provenance": []
    }
  },
  "nbformat": 4,
  "nbformat_minor": 5
}